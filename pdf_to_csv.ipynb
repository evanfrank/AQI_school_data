{
 "cells": [
  {
   "cell_type": "markdown",
   "id": "3f096923",
   "metadata": {},
   "source": [
    "# PDF to CSV \n",
    "\n",
    "This file changes a pdf cotnaining valuble school atendence data obtainted by a FOIA to machine readable csv for further anlysis"
   ]
  },
  {
   "cell_type": "code",
   "execution_count": 2,
   "id": "4320ad73",
   "metadata": {
    "scrolled": true
   },
   "outputs": [
    {
     "name": "stdout",
     "output_type": "stream",
     "text": [
      "Collecting tabula-py\n",
      "  Downloading tabula_py-2.3.0-py3-none-any.whl (12.0 MB)\n",
      "\u001b[K     |████████████████████████████████| 12.0 MB 12.4 MB/s eta 0:00:01\n",
      "\u001b[?25hCollecting distro\n",
      "  Downloading distro-1.7.0-py3-none-any.whl (20 kB)\n",
      "Requirement already satisfied: pandas>=0.25.3 in /Users/evanfrank/opt/anaconda3/lib/python3.7/site-packages (from tabula-py) (1.2.3)\n",
      "Requirement already satisfied: numpy in /Users/evanfrank/opt/anaconda3/lib/python3.7/site-packages (from tabula-py) (1.19.2)\n",
      "Requirement already satisfied: python-dateutil>=2.7.3 in /Users/evanfrank/opt/anaconda3/lib/python3.7/site-packages (from pandas>=0.25.3->tabula-py) (2.8.1)\n",
      "Requirement already satisfied: pytz>=2017.3 in /Users/evanfrank/opt/anaconda3/lib/python3.7/site-packages (from pandas>=0.25.3->tabula-py) (2021.1)\n",
      "Requirement already satisfied: six>=1.5 in /Users/evanfrank/opt/anaconda3/lib/python3.7/site-packages (from python-dateutil>=2.7.3->pandas>=0.25.3->tabula-py) (1.15.0)\n",
      "Installing collected packages: distro, tabula-py\n",
      "Successfully installed distro-1.7.0 tabula-py-2.3.0\n"
     ]
    }
   ],
   "source": [
    "!pip install tabula-py"
   ]
  },
  {
   "cell_type": "code",
   "execution_count": 81,
   "id": "3b286097",
   "metadata": {},
   "outputs": [],
   "source": [
    "#import packages for data parsing\n",
    "import tabula\n",
    "import pandas as pd"
   ]
  },
  {
   "cell_type": "code",
   "execution_count": 82,
   "id": "d680a604",
   "metadata": {},
   "outputs": [],
   "source": [
    "#read the pdf, this creates a DataFrame for each page and musst be corrected\n",
    "df=tabula.read_pdf('School_Data.pdf', encoding='utf-8', pages='2-1149')"
   ]
  },
  {
   "cell_type": "code",
   "execution_count": 83,
   "id": "728d64e3",
   "metadata": {},
   "outputs": [],
   "source": [
    "#create an empty list to sotre the created DataFrames \n",
    "df_list=[]\n",
    "\n",
    "#itterate over the length of df\n",
    "for x in range(len(df)):\n",
    "    #pull the correct df to work with\n",
    "    df_sub=df[x]\n",
    "    #the column names of must of the sub DataFrames are an entry and need to be retained\n",
    "    retain=list(df_sub.columns)\n",
    "    #standardize column names \n",
    "    df_sub.columns=['Week', 'School', 'Grade', 'Absences']\n",
    "    #make sure a heading it not placed in the enties\n",
    "    if retain[3] != 'Absences':\n",
    "        #prep the misplaced enrtry for appending\n",
    "        a_series = pd.Series(retain, index = df_sub.columns)\n",
    "        #appended the misplaced entry \n",
    "        df_sub = df_sub.append(a_series, ignore_index=True)\n",
    "    #store the DataFrame in a list \n",
    "    df_list.append(df_sub)"
   ]
  },
  {
   "cell_type": "code",
   "execution_count": 84,
   "id": "1168cb39",
   "metadata": {},
   "outputs": [
    {
     "data": {
      "text/html": [
       "<div>\n",
       "<style scoped>\n",
       "    .dataframe tbody tr th:only-of-type {\n",
       "        vertical-align: middle;\n",
       "    }\n",
       "\n",
       "    .dataframe tbody tr th {\n",
       "        vertical-align: top;\n",
       "    }\n",
       "\n",
       "    .dataframe thead th {\n",
       "        text-align: right;\n",
       "    }\n",
       "</style>\n",
       "<table border=\"1\" class=\"dataframe\">\n",
       "  <thead>\n",
       "    <tr style=\"text-align: right;\">\n",
       "      <th></th>\n",
       "      <th>Week</th>\n",
       "      <th>School</th>\n",
       "      <th>Grade</th>\n",
       "      <th>Absences</th>\n",
       "    </tr>\n",
       "  </thead>\n",
       "  <tbody>\n",
       "    <tr>\n",
       "      <th>0</th>\n",
       "      <td>Week of 01/04/2010</td>\n",
       "      <td>Albert F Monroe Middle School</td>\n",
       "      <td>6</td>\n",
       "      <td>24</td>\n",
       "    </tr>\n",
       "    <tr>\n",
       "      <th>1</th>\n",
       "      <td>Week of 01/04/2010</td>\n",
       "      <td>Albert F Monroe Middle School</td>\n",
       "      <td>7</td>\n",
       "      <td>21</td>\n",
       "    </tr>\n",
       "    <tr>\n",
       "      <th>2</th>\n",
       "      <td>Week of 01/04/2010</td>\n",
       "      <td>Albert F Monroe Middle School</td>\n",
       "      <td>8</td>\n",
       "      <td>30</td>\n",
       "    </tr>\n",
       "    <tr>\n",
       "      <th>3</th>\n",
       "      <td>Week of 01/04/2010</td>\n",
       "      <td>Bennett-Kew Elementary School</td>\n",
       "      <td>K</td>\n",
       "      <td>18</td>\n",
       "    </tr>\n",
       "    <tr>\n",
       "      <th>4</th>\n",
       "      <td>Week of 01/04/2010</td>\n",
       "      <td>Bennett-Kew Elementary School</td>\n",
       "      <td>1</td>\n",
       "      <td>20</td>\n",
       "    </tr>\n",
       "  </tbody>\n",
       "</table>\n",
       "</div>"
      ],
      "text/plain": [
       "                 Week                         School Grade Absences\n",
       "0  Week of 01/04/2010  Albert F Monroe Middle School     6       24\n",
       "1  Week of 01/04/2010  Albert F Monroe Middle School     7       21\n",
       "2  Week of 01/04/2010  Albert F Monroe Middle School     8       30\n",
       "3  Week of 01/04/2010  Bennett-Kew Elementary School     K       18\n",
       "4  Week of 01/04/2010  Bennett-Kew Elementary School     1       20"
      ]
     },
     "execution_count": 84,
     "metadata": {},
     "output_type": "execute_result"
    }
   ],
   "source": [
    "#concatinate all interated DataFrames to one DataFrame\n",
    "df_full=pd.concat(df_list)\n",
    "#display the head of the DataFrame\n",
    "df_full.head(5)"
   ]
  },
  {
   "cell_type": "code",
   "execution_count": 85,
   "id": "ef1c7b2b",
   "metadata": {},
   "outputs": [],
   "source": [
    "#Save the DataFrame to csv\n",
    "df_full.to_csv('school_data.csv')"
   ]
  },
  {
   "cell_type": "code",
   "execution_count": null,
   "id": "9ecd44bd",
   "metadata": {},
   "outputs": [],
   "source": []
  }
 ],
 "metadata": {
  "kernelspec": {
   "display_name": "Python 3",
   "language": "python",
   "name": "python3"
  },
  "language_info": {
   "codemirror_mode": {
    "name": "ipython",
    "version": 3
   },
   "file_extension": ".py",
   "mimetype": "text/x-python",
   "name": "python",
   "nbconvert_exporter": "python",
   "pygments_lexer": "ipython3",
   "version": "3.7.6"
  }
 },
 "nbformat": 4,
 "nbformat_minor": 5
}
