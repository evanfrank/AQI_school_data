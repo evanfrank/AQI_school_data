{
 "cells": [
  {
   "cell_type": "markdown",
   "id": "85cb15b3",
   "metadata": {},
   "source": [
    "# Data Cleaning\n",
    "\n",
    "This file contains the program to make different CSV's that are used for the other major files\n",
    "\n",
    "## files created\n",
    "\n",
    "* school_data_1.csv\n",
    "* school_data_week.csv\n",
    "* school_data_enrollment.csv\n",
    "* school_data_week.csv\n",
    "* school_date_3.csv\n",
    "* school_data_2.csv"
   ]
  },
  {
   "cell_type": "code",
   "execution_count": 1,
   "id": "05386a39",
   "metadata": {},
   "outputs": [],
   "source": [
    "import numpy as np\n",
    "import pandas as pd"
   ]
  },
  {
   "cell_type": "code",
   "execution_count": 2,
   "id": "a8691952",
   "metadata": {},
   "outputs": [
    {
     "name": "stderr",
     "output_type": "stream",
     "text": [
      "/Users/evanfrank/opt/anaconda3/lib/python3.7/site-packages/ipykernel_launcher.py:8: SettingWithCopyWarning: \n",
      "A value is trying to be set on a copy of a slice from a DataFrame\n",
      "\n",
      "See the caveats in the documentation: https://pandas.pydata.org/pandas-docs/stable/user_guide/indexing.html#returning-a-view-versus-a-copy\n",
      "  \n"
     ]
    }
   ],
   "source": [
    "#read in the csv file and push it to a DataFrame\n",
    "df = pd.read_csv('school_data.csv',index_col='Unnamed: 0')\n",
    "#reset the index of the data set\n",
    "df=df.reset_index(drop=True)\n",
    "#itterate over the data set and trim the 'Week' cloumn to a timestamp formate\n",
    "for x in range(df.shape[0]):\n",
    "    #trim the first 9 charactersts form the 'Week' string\n",
    "    df['Week'][x]=df['Week'][x][8:]\n",
    "df.to_csv('school_data_1.csv')"
   ]
  },
  {
   "cell_type": "code",
   "execution_count": 3,
   "id": "b5a1859e",
   "metadata": {},
   "outputs": [
    {
     "data": {
      "text/html": [
       "<div>\n",
       "<style scoped>\n",
       "    .dataframe tbody tr th:only-of-type {\n",
       "        vertical-align: middle;\n",
       "    }\n",
       "\n",
       "    .dataframe tbody tr th {\n",
       "        vertical-align: top;\n",
       "    }\n",
       "\n",
       "    .dataframe thead th {\n",
       "        text-align: right;\n",
       "    }\n",
       "</style>\n",
       "<table border=\"1\" class=\"dataframe\">\n",
       "  <thead>\n",
       "    <tr style=\"text-align: right;\">\n",
       "      <th></th>\n",
       "      <th>Week</th>\n",
       "      <th>Absences</th>\n",
       "    </tr>\n",
       "  </thead>\n",
       "  <tbody>\n",
       "    <tr>\n",
       "      <th>317</th>\n",
       "      <td>2009-08-31</td>\n",
       "      <td>459.0</td>\n",
       "    </tr>\n",
       "    <tr>\n",
       "      <th>330</th>\n",
       "      <td>2009-09-07</td>\n",
       "      <td>970.0</td>\n",
       "    </tr>\n",
       "    <tr>\n",
       "      <th>343</th>\n",
       "      <td>2009-09-14</td>\n",
       "      <td>1378.0</td>\n",
       "    </tr>\n",
       "    <tr>\n",
       "      <th>356</th>\n",
       "      <td>2009-09-21</td>\n",
       "      <td>1505.0</td>\n",
       "    </tr>\n",
       "    <tr>\n",
       "      <th>369</th>\n",
       "      <td>2009-09-28</td>\n",
       "      <td>1724.0</td>\n",
       "    </tr>\n",
       "  </tbody>\n",
       "</table>\n",
       "</div>"
      ],
      "text/plain": [
       "           Week  Absences\n",
       "317  2009-08-31     459.0\n",
       "330  2009-09-07     970.0\n",
       "343  2009-09-14    1378.0\n",
       "356  2009-09-21    1505.0\n",
       "369  2009-09-28    1724.0"
      ]
     },
     "execution_count": 3,
     "metadata": {},
     "output_type": "execute_result"
    }
   ],
   "source": [
    "#read in the cleaned version so we have lower subsequent run times\n",
    "df=pd.read_csv('school_data_1.csv',index_col='Unnamed: 0')\n",
    "#group the data by week and number of Absences\n",
    "grouped=df.groupby('Week',as_index=False)['Absences'].sum()\n",
    "#make the 'Week' cloumn a timestamp\n",
    "grouped['Week'] =pd.to_datetime(grouped.Week).dt.date\n",
    "#Sort the weeks into calender order\n",
    "grouped=grouped.sort_values(by='Week')\n",
    "grouped.to_csv('school_data_week.csv')\n",
    "#show first five rows\n",
    "grouped.head(5)"
   ]
  },
  {
   "cell_type": "code",
   "execution_count": 4,
   "id": "2c5a987f",
   "metadata": {},
   "outputs": [],
   "source": [
    "enrollment=pd.read_csv('enrollment.csv')\n",
    "enrollment['year']=pd.to_datetime(enrollment['year ']).dt.date"
   ]
  },
  {
   "cell_type": "code",
   "execution_count": 5,
   "id": "4c763a62",
   "metadata": {},
   "outputs": [
    {
     "name": "stderr",
     "output_type": "stream",
     "text": [
      "/Users/evanfrank/opt/anaconda3/lib/python3.7/site-packages/ipykernel_launcher.py:6: SettingWithCopyWarning: \n",
      "A value is trying to be set on a copy of a slice from a DataFrame\n",
      "\n",
      "See the caveats in the documentation: https://pandas.pydata.org/pandas-docs/stable/user_guide/indexing.html#returning-a-view-versus-a-copy\n",
      "  \n"
     ]
    }
   ],
   "source": [
    "df['Week']=pd.to_datetime(df.Week).dt.date\n",
    "df['enrollment']=np.nan\n",
    "for y in range(enrollment.shape[0]):\n",
    "    for x in range(df.shape[0]):\n",
    "        if df['Week'][x] >=enrollment['year'][y]:\n",
    "            df['enrollment'][x]=enrollment['enrollment'][y]"
   ]
  },
  {
   "cell_type": "code",
   "execution_count": 6,
   "id": "98e32c8f",
   "metadata": {},
   "outputs": [],
   "source": [
    "df.to_csv('school_data_enrollment.csv')"
   ]
  },
  {
   "cell_type": "code",
   "execution_count": 7,
   "id": "7f3b2b21",
   "metadata": {},
   "outputs": [],
   "source": [
    "#read in the cleaned version so we have lower subsequent run times\n",
    "df=pd.read_csv('school_data_1.csv',index_col='Unnamed: 0')\n",
    "#group the data by week and number of Absences\n",
    "grouped=df.groupby('Week',as_index=False)['Absences'].sum()\n",
    "#make the 'Week' cloumn a timestamp\n",
    "grouped['Week'] =pd.to_datetime(grouped.Week).dt.date\n",
    "#Sort the weeks into calender order\n",
    "grouped=grouped.sort_values(by='Week')\n",
    "grouped.to_csv('school_data_week.csv')"
   ]
  },
  {
   "cell_type": "code",
   "execution_count": 8,
   "id": "608d449b",
   "metadata": {},
   "outputs": [
    {
     "name": "stderr",
     "output_type": "stream",
     "text": [
      "/Users/evanfrank/opt/anaconda3/lib/python3.7/site-packages/ipykernel_launcher.py:17: SettingWithCopyWarning: \n",
      "A value is trying to be set on a copy of a slice from a DataFrame\n",
      "\n",
      "See the caveats in the documentation: https://pandas.pydata.org/pandas-docs/stable/user_guide/indexing.html#returning-a-view-versus-a-copy\n"
     ]
    }
   ],
   "source": [
    "#seperatly read in the school_data_enrollment dropping the index \n",
    "df2=pd.read_csv('school_data_enrollment.csv', index_col='Unnamed: 0')\n",
    "#do a groupby function\n",
    "df2=df2.groupby('Week',as_index=False)['Absences'].sum()\n",
    "#send the week to date type\n",
    "df2['Week']=pd.to_datetime(df2['Week']).dt.date\n",
    "#make an empty column to write into\n",
    "df2['enrollment']=np.nan\n",
    "#read in the enrollment csv\n",
    "enrollment=pd.read_csv('enrollment.csv')\n",
    "enrollment['year']=pd.to_datetime(enrollment['year ']).dt.date\n",
    "\n",
    "#interate over the year and the size of df2\n",
    "for y in range(enrollment.shape[0]):\n",
    "    for x in range(df2.shape[0]):\n",
    "        if df2['Week'][x] >=enrollment['year'][y]:\n",
    "            df2['enrollment'][x]=enrollment['enrollment'][y]\n",
    "            \n",
    "#drop the rosws that include a nan\n",
    "df2=df2.dropna()\n",
    "#calcuate the % of students abcent\n",
    "df2['pct_absences']=(df2['Absences']/df2['enrollment'])*100\n",
    "#reset the index\n",
    "df2=df2.reset_index(drop=True)\n",
    "#send week to date type\n",
    "df2[\"date\"] = pd.to_datetime(df2[\"Week\"])\n",
    "#trim the dataframe to school year\n",
    "df2=df2[(df2.date.dt.month >= 9) | (df2.date.dt.month <= 6)]\n",
    "#reset the index\n",
    "df2=df2.reset_index(drop=True)\n",
    "#send this data to csv\n",
    "df2.to_csv('school_date_3.csv')"
   ]
  },
  {
   "cell_type": "code",
   "execution_count": 9,
   "id": "20b2c94e",
   "metadata": {},
   "outputs": [],
   "source": [
    "#read in the csv file and push it to a DataFrame\n",
    "df = pd.read_csv('school_data_1.csv',index_col='Unnamed: 0')\n",
    "#drop ros that include summer getting ride of summer schools\n",
    "df=df[df['School'].str.contains('Summer')==False]\n",
    "#send the data type of Absences to int\n",
    "df['Absences']=df['Absences'].astype(int)\n",
    "#send the data to csv\n",
    "df.to_csv('school_data_2.csv')"
   ]
  }
 ],
 "metadata": {
  "kernelspec": {
   "display_name": "Python 3",
   "language": "python",
   "name": "python3"
  },
  "language_info": {
   "codemirror_mode": {
    "name": "ipython",
    "version": 3
   },
   "file_extension": ".py",
   "mimetype": "text/x-python",
   "name": "python",
   "nbconvert_exporter": "python",
   "pygments_lexer": "ipython3",
   "version": "3.7.6"
  }
 },
 "nbformat": 4,
 "nbformat_minor": 5
}
